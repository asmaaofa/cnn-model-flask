{
  "cells": [
    {
      "cell_type": "code",
      "execution_count": 1,
      "metadata": {
        "id": "W098OhLzFab4"
      },
      "outputs": [],
      "source": [
        "import numpy as np\n",
        "import pandas as pd\n",
        "import seaborn as sns\n",
        "import matplotlib.pyplot as plt\n",
        "from sklearn.preprocessing import StandardScaler\n",
        "from sklearn.model_selection import train_test_split\n",
        "import tensorflow as tf\n",
        "from tensorflow import keras\n",
        "from tensorflow.keras.models import Sequential\n",
        "from tensorflow.keras.callbacks import ModelCheckpoint\n",
        "from tensorflow.keras.layers import Conv2D, MaxPooling2D, Flatten, Dropout, Dense\n",
        "from tensorflow.keras import layers\n",
        "import cv2, os\n",
        "from tqdm import tqdm\n",
        "from random import shuffle\n",
        "import shutil"
      ]
    },
    {
      "cell_type": "code",
      "execution_count": 2,
      "metadata": {
        "colab": {
          "base_uri": "https://localhost:8080/"
        },
        "id": "ps3IvLtuPxpb",
        "outputId": "e9745cd3-5233-46fa-a83e-04b4f65331a9"
      },
      "outputs": [
        {
          "output_type": "stream",
          "name": "stdout",
          "text": [
            "--2023-01-25 00:46:41--  https://cainvas-static.s3.amazonaws.com/media/user_data/tanmay/dogvcat.zip\n",
            "Resolving cainvas-static.s3.amazonaws.com (cainvas-static.s3.amazonaws.com)... 52.219.158.3\n",
            "Connecting to cainvas-static.s3.amazonaws.com (cainvas-static.s3.amazonaws.com)|52.219.158.3|:443... connected.\n",
            "HTTP request sent, awaiting response... 200 OK\n",
            "Length: 60547127 (58M) [application/zip]\n",
            "Saving to: ‘dogvcat.zip.1’\n",
            "\n",
            "dogvcat.zip.1       100%[===================>]  57.74M  12.0MB/s    in 6.2s    \n",
            "\n",
            "2023-01-25 00:46:48 (9.36 MB/s) - ‘dogvcat.zip.1’ saved [60547127/60547127]\n",
            "\n"
          ]
        }
      ],
      "source": [
        "!wget \"https://cainvas-static.s3.amazonaws.com/media/user_data/tanmay/dogvcat.zip\"\n",
        "!unzip -qo dogvcat.zip"
      ]
    },
    {
      "cell_type": "code",
      "execution_count": 3,
      "metadata": {
        "colab": {
          "base_uri": "https://localhost:8080/"
        },
        "id": "Z5-YfjnzFfa5",
        "outputId": "789f849d-7f7a-4b8e-f2fb-2a6812a54bea"
      },
      "outputs": [
        {
          "output_type": "stream",
          "name": "stdout",
          "text": [
            "Found 19860 images belonging to 2 classes.\n",
            "Found 4963 images belonging to 2 classes.\n"
          ]
        }
      ],
      "source": [
        "train_dir= \"./datset/training\"\n",
        "test_dir= \"./datset/testing\"\n",
        "train_datagen = tf.keras.preprocessing.image.ImageDataGenerator(rescale=1./255, validation_split= 0.2)\n",
        "train_generator = train_datagen.flow_from_directory(train_dir, target_size=(50,50), color_mode='grayscale', batch_size=20, class_mode='binary', subset= 'training')\n",
        "val_generator = train_datagen.flow_from_directory(train_dir, target_size=(50,50), color_mode='grayscale', batch_size=20, class_mode='binary', subset= 'validation')"
      ]
    },
    {
      "cell_type": "code",
      "execution_count": 4,
      "metadata": {
        "colab": {
          "base_uri": "https://localhost:8080/"
        },
        "id": "6AttnDOaJBWx",
        "outputId": "cd7e9806-b8d1-4da9-ce3a-f25a11646317"
      },
      "outputs": [
        {
          "output_type": "stream",
          "name": "stdout",
          "text": [
            "Model: \"sequential\"\n",
            "_________________________________________________________________\n",
            " Layer (type)                Output Shape              Param #   \n",
            "=================================================================\n",
            " conv2d (Conv2D)             (None, 50, 50, 16)        160       \n",
            "                                                                 \n",
            " max_pooling2d (MaxPooling2D  (None, 25, 25, 16)       0         \n",
            " )                                                               \n",
            "                                                                 \n",
            " conv2d_1 (Conv2D)           (None, 25, 25, 32)        4640      \n",
            "                                                                 \n",
            " max_pooling2d_1 (MaxPooling  (None, 13, 13, 32)       0         \n",
            " 2D)                                                             \n",
            "                                                                 \n",
            " conv2d_2 (Conv2D)           (None, 13, 13, 64)        18496     \n",
            "                                                                 \n",
            " max_pooling2d_2 (MaxPooling  (None, 7, 7, 64)         0         \n",
            " 2D)                                                             \n",
            "                                                                 \n",
            " conv2d_3 (Conv2D)           (None, 7, 7, 64)          36928     \n",
            "                                                                 \n",
            " max_pooling2d_3 (MaxPooling  (None, 4, 4, 64)         0         \n",
            " 2D)                                                             \n",
            "                                                                 \n",
            " flatten (Flatten)           (None, 1024)              0         \n",
            "                                                                 \n",
            " dropout (Dropout)           (None, 1024)              0         \n",
            "                                                                 \n",
            " dense (Dense)               (None, 128)               131200    \n",
            "                                                                 \n",
            " dropout_1 (Dropout)         (None, 128)               0         \n",
            "                                                                 \n",
            " dense_1 (Dense)             (None, 256)               33024     \n",
            "                                                                 \n",
            " dense_2 (Dense)             (None, 1)                 257       \n",
            "                                                                 \n",
            "=================================================================\n",
            "Total params: 224,705\n",
            "Trainable params: 224,705\n",
            "Non-trainable params: 0\n",
            "_________________________________________________________________\n"
          ]
        }
      ],
      "source": [
        "model = tf.keras.models.Sequential()\n",
        "model.add(tf.keras.layers.Conv2D(16, kernel_size=(3,3), activation='relu',input_shape=(50,50,1), padding='same'))\n",
        "# model.add(LeakyReLU(alpha=0.1))\n",
        "model.add(tf.keras.layers.MaxPooling2D(pool_size=(2,2), padding='same'))\n",
        "model.add(tf.keras.layers.Conv2D(32, kernel_size=(3,3), activation='relu', padding='same'))\n",
        "# model.add(tf.keras.activations.relu(alpha=0.1))\n",
        "model.add(tf.keras.layers.MaxPooling2D(pool_size=(2,2), padding='same'))\n",
        "model.add(tf.keras.layers.Conv2D(64, kernel_size=(3,3), activation='relu', padding='same'))\n",
        "# model.add(tf.keras.activations.relu(alpha=0.1))\n",
        "model.add(tf.keras.layers.MaxPooling2D(pool_size=(2,2), padding='same'))\n",
        "model.add(tf.keras.layers.Conv2D(64, kernel_size=(3,3), activation='relu', padding='same'))\n",
        "# model.add(tf.keras.activations.relu(alpha=0.1))\n",
        "model.add(tf.keras.layers.MaxPooling2D(pool_size=(2,2), padding='same'))\n",
        "model.add(tf.keras.layers.Flatten())\n",
        "model.add(tf.keras.layers.Dropout(0.5))\n",
        "model.add(tf.keras.layers.Dense(128, activation=tf.nn.relu))\n",
        "# model.add(tf.keras.activations.relu(alpha=0.1))\n",
        "model.add(Dropout(0.5))\n",
        "model.add(tf.keras.layers.Dense(256, activation=tf.nn.relu))\n",
        "model.add(tf.keras.layers.Dense(1, activation='sigmoid'))\n",
        "model.summary()"
      ]
    },
    {
      "cell_type": "code",
      "execution_count": 5,
      "metadata": {
        "colab": {
          "base_uri": "https://localhost:8080/"
        },
        "id": "dwlL7aEuJmGk",
        "outputId": "6fa43485-7d8e-4f7b-f273-c835f957df78"
      },
      "outputs": [
        {
          "output_type": "stream",
          "name": "stderr",
          "text": [
            "<ipython-input-5-faadb999332c>:2: UserWarning: `Model.fit_generator` is deprecated and will be removed in a future version. Please use `Model.fit`, which supports generators.\n",
            "  history = model.fit_generator(train_generator, epochs=20, validation_data=val_generator, validation_steps=50)\n"
          ]
        },
        {
          "output_type": "stream",
          "name": "stdout",
          "text": [
            "Epoch 1/20\n",
            "993/993 [==============================] - 78s 76ms/step - loss: 0.6822 - accuracy: 0.5534 - val_loss: 0.6602 - val_accuracy: 0.6020\n",
            "Epoch 2/20\n",
            "993/993 [==============================] - 70s 71ms/step - loss: 0.6392 - accuracy: 0.6388 - val_loss: 0.5842 - val_accuracy: 0.6970\n",
            "Epoch 3/20\n",
            "993/993 [==============================] - 67s 68ms/step - loss: 0.5841 - accuracy: 0.6934 - val_loss: 0.5619 - val_accuracy: 0.7170\n",
            "Epoch 4/20\n",
            "993/993 [==============================] - 68s 69ms/step - loss: 0.5377 - accuracy: 0.7340 - val_loss: 0.5093 - val_accuracy: 0.7540\n",
            "Epoch 5/20\n",
            "993/993 [==============================] - 68s 69ms/step - loss: 0.5001 - accuracy: 0.7611 - val_loss: 0.4979 - val_accuracy: 0.7590\n",
            "Epoch 6/20\n",
            "993/993 [==============================] - 72s 73ms/step - loss: 0.4662 - accuracy: 0.7789 - val_loss: 0.4698 - val_accuracy: 0.7610\n",
            "Epoch 7/20\n",
            "993/993 [==============================] - 70s 71ms/step - loss: 0.4443 - accuracy: 0.7940 - val_loss: 0.4594 - val_accuracy: 0.7770\n",
            "Epoch 8/20\n",
            "993/993 [==============================] - 76s 76ms/step - loss: 0.4286 - accuracy: 0.8041 - val_loss: 0.4044 - val_accuracy: 0.8070\n",
            "Epoch 9/20\n",
            "993/993 [==============================] - 85s 86ms/step - loss: 0.4059 - accuracy: 0.8147 - val_loss: 0.4125 - val_accuracy: 0.8080\n",
            "Epoch 10/20\n",
            "993/993 [==============================] - 76s 77ms/step - loss: 0.3900 - accuracy: 0.8226 - val_loss: 0.4172 - val_accuracy: 0.7960\n",
            "Epoch 11/20\n",
            "993/993 [==============================] - 77s 78ms/step - loss: 0.3734 - accuracy: 0.8317 - val_loss: 0.3926 - val_accuracy: 0.8320\n",
            "Epoch 12/20\n",
            "993/993 [==============================] - 70s 70ms/step - loss: 0.3585 - accuracy: 0.8407 - val_loss: 0.3927 - val_accuracy: 0.8210\n",
            "Epoch 13/20\n",
            "993/993 [==============================] - 68s 68ms/step - loss: 0.3476 - accuracy: 0.8439 - val_loss: 0.3906 - val_accuracy: 0.8220\n",
            "Epoch 14/20\n",
            "993/993 [==============================] - 70s 71ms/step - loss: 0.3363 - accuracy: 0.8498 - val_loss: 0.3614 - val_accuracy: 0.8430\n",
            "Epoch 15/20\n",
            "993/993 [==============================] - 68s 68ms/step - loss: 0.3305 - accuracy: 0.8548 - val_loss: 0.3862 - val_accuracy: 0.8190\n",
            "Epoch 16/20\n",
            "993/993 [==============================] - 68s 69ms/step - loss: 0.3110 - accuracy: 0.8616 - val_loss: 0.3549 - val_accuracy: 0.8460\n",
            "Epoch 17/20\n",
            "993/993 [==============================] - 68s 68ms/step - loss: 0.3045 - accuracy: 0.8699 - val_loss: 0.4079 - val_accuracy: 0.8290\n",
            "Epoch 18/20\n",
            "993/993 [==============================] - 67s 67ms/step - loss: 0.2904 - accuracy: 0.8702 - val_loss: 0.4122 - val_accuracy: 0.8030\n",
            "Epoch 19/20\n",
            "993/993 [==============================] - 71s 72ms/step - loss: 0.2895 - accuracy: 0.8725 - val_loss: 0.4126 - val_accuracy: 0.8170\n",
            "Epoch 20/20\n",
            "993/993 [==============================] - 67s 68ms/step - loss: 0.2752 - accuracy: 0.8819 - val_loss: 0.4801 - val_accuracy: 0.7850\n"
          ]
        }
      ],
      "source": [
        "model.compile(optimizer='adam', loss='binary_crossentropy', metrics=['accuracy'])\n",
        "history = model.fit_generator(train_generator, epochs=20, validation_data=val_generator, validation_steps=50)"
      ]
    },
    {
      "cell_type": "code",
      "execution_count": 7,
      "metadata": {
        "id": "HpnYKdo0LoFZ"
      },
      "outputs": [],
      "source": [
        "model.save('model.h5')"
      ]
    }
  ],
  "metadata": {
    "colab": {
      "provenance": []
    },
    "kernelspec": {
      "display_name": "Python 3",
      "name": "python3"
    },
    "language_info": {
      "name": "python"
    }
  },
  "nbformat": 4,
  "nbformat_minor": 0
}